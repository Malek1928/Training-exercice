{
 "cells": [
  {
   "cell_type": "code",
   "execution_count": 2,
   "id": "92827176",
   "metadata": {},
   "outputs": [
    {
     "name": "stdout",
     "output_type": "stream",
     "text": [
      "[2002, 2009, 2016, 2023, 2037, 2044, 2051, 2058, 2072, 2079, 2086, 2093, 2107, 2114, 2121, 2128, 2142, 2149, 2156, 2163, 2177, 2184, 2191, 2198, 2212, 2219, 2226, 2233, 2247, 2254, 2261, 2268, 2282, 2289, 2296, 2303, 2317, 2324, 2331, 2338, 2352, 2359, 2366, 2373, 2387, 2394, 2401, 2408, 2422, 2429, 2436, 2443, 2457, 2464, 2471, 2478, 2492, 2499, 2506, 2513, 2527, 2534, 2541, 2548, 2562, 2569, 2576, 2583, 2597, 2604, 2611, 2618, 2632, 2639, 2646, 2653, 2667, 2674, 2681, 2688, 2702, 2709, 2716, 2723, 2737, 2744, 2751, 2758, 2772, 2779, 2786, 2793, 2807, 2814, 2821, 2828, 2842, 2849, 2856, 2863, 2877, 2884, 2891, 2898, 2912, 2919, 2926, 2933, 2947, 2954, 2961, 2968, 2982, 2989, 2996, 3003, 3017, 3024, 3031, 3038, 3052, 3059, 3066, 3073, 3087, 3094, 3101, 3108, 3122, 3129, 3136, 3143, 3157, 3164, 3171, 3178, 3192, 3199]\n"
     ]
    }
   ],
   "source": [
    "# exercice 01:\n",
    "#Write a program that will find all numbers which are divisible by 7 but are not a multiple of 5, between 2000 and 3200 (both included). The numbers obtained should be printed in a list.\n",
    "#Hints: Consider using the range(#begin, #end) method.\n",
    "\n",
    "L=[]\n",
    "for i in range (2000,3201):\n",
    "    if i%7==0 and i%5 != 0:\n",
    "        L.append(i)\n",
    "print(L)"
   ]
  },
  {
   "cell_type": "code",
   "execution_count": 35,
   "id": "d4fe340d",
   "metadata": {},
   "outputs": [
    {
     "name": "stdout",
     "output_type": "stream",
     "text": [
      "enter an integer number: 5\n",
      "120\n"
     ]
    }
   ],
   "source": [
    "#exercice 02: \n",
    " #Write a program that can compute the factorial of a given number. (the factorial of n is the product of all positive integers less than or equal to n). for example factorial(5)= 5 x 4 x 3 x 2 x 1 the result is 120.  (i.e. factorial (0)=1)\n",
    "num=int(input('enter an integer number: '))\n",
    "m_factorial=1\n",
    "if num < 0 :\n",
    "    print(\"there isn't the factorial of this number\")\n",
    "elif num == 0:\n",
    "    factorial = 1 \n",
    "    print(\"the factoriel is \",factorial)\n",
    "else :\n",
    "    for i in range(1,num+1):\n",
    "        m_factorial= m_factorial * i\n",
    "    print(m_factorial)\n",
    "\n",
    "        "
   ]
  },
  {
   "cell_type": "code",
   "execution_count": 4,
   "id": "cc673c67",
   "metadata": {},
   "outputs": [
    {
     "name": "stdout",
     "output_type": "stream",
     "text": [
      "enter a integer number: 25\n",
      "{1: 1, 2: 4, 3: 9, 4: 16, 5: 25, 6: 36, 7: 49, 8: 64, 9: 81, 10: 100, 11: 121, 12: 144, 13: 169, 14: 196, 15: 225, 16: 256, 17: 289, 18: 324, 19: 361, 20: 400, 21: 441, 22: 484, 23: 529, 24: 576, 25: 625}\n"
     ]
    }
   ],
   "source": [
    "#exercice 03 : \n",
    "#With a given integer number n, write a program to generate a dictionary that contains (i, i*i) such that is an integral number between 1 and n (both included). and then the program should print the dictionary. Suppose the following input is supplied to the program: 8 Then, the output should be: {1: 1, 2: 4, 3: 9, 4: 16, 5: 25, 6: 36, 7: 49, 8: 64} \n",
    "n=int(input(\"enter a integer number: \"))\n",
    "#we use the comprehension dictionnary where we can write our loop into the dictionnary\n",
    "dictt={i:i**2 for i in range(1,n+1)}\n",
    "print(dictt)\n",
    " "
   ]
  },
  {
   "cell_type": "code",
   "execution_count": 6,
   "id": "31be9239",
   "metadata": {},
   "outputs": [
    {
     "data": {
      "text/plain": [
       "'deep_leaning'"
      ]
     },
     "execution_count": 6,
     "metadata": {},
     "output_type": "execute_result"
    }
   ],
   "source": [
    "#exercice 04:\n",
    "#Given a non-empty string and an int n, return a new string where the char at index n has been removed. The value of n will be a valid index of a char in the original string (i.e. n will be in the range 0..len(str)-1 inclusive). \n",
    "#missing_char('kitten', 1) → 'ktten'    for example here we remove \"i\" which is located in the index 1\n",
    "#missing_char('kitten', 0) → 'itten'   here we remove \"k\" which is in the index 0\n",
    "#missing_char('kitten', 4) → 'kittn'   here we remove \"e\" which is in the index 4\n",
    "\n",
    "def missing_char (word,n):\n",
    "    if n < len(word):\n",
    "        start=word[:n]\n",
    "        finish=word[n+1:]\n",
    "        word=start+finish \n",
    "    else:\n",
    "        word='ERROR'\n",
    "        print('n is superior then word length')\n",
    "    \n",
    "    return word\n",
    "missing_char('deep_learning',8)\n",
    "    "
   ]
  },
  {
   "cell_type": "code",
   "execution_count": 5,
   "id": "be17dd03",
   "metadata": {},
   "outputs": [
    {
     "name": "stdout",
     "output_type": "stream",
     "text": [
      "[[1 2]\n",
      " [3 4]\n",
      " [5 6]]\n",
      "[[1, 2], [3, 4], [5, 6]]\n"
     ]
    }
   ],
   "source": [
    "#exercice05:\n",
    "#Write a NumPy program to convert a NumPy array into a Python list structure.\n",
    "\n",
    "#Expected Output: \n",
    "\n",
    "#Original array elements: [[0 1] [2 3] [4 5]] \n",
    "\n",
    "#array to list: [[0, 1], [2, 3], [4, 5]] \n",
    "\n",
    "import numpy as np\n",
    "arr=np.array([[1,2],[3,4],[5,6]])\n",
    "#converte array to list using tolist() function\n",
    "m_list=arr.tolist()\n",
    "print(arr)\n",
    "print(m_list)"
   ]
  },
  {
   "cell_type": "code",
   "execution_count": 2,
   "id": "73650602",
   "metadata": {},
   "outputs": [
    {
     "name": "stdout",
     "output_type": "stream",
     "text": [
      "[[0 1 2]\n",
      " [2 0 1]]\n",
      "[[ 1.  -0.5]\n",
      " [-0.5  1. ]]\n"
     ]
    }
   ],
   "source": [
    "#exercice06:\n",
    "#Write a NumPy program to compute the covariance matrix of two given arrays. \n",
    "#Original array1: [0 1 2] \n",
    "#Original array2: [2 1 0] \n",
    "import numpy as np\n",
    "arr1=np.array([0,1,2])\n",
    "arr2=np.array([2,0,1])\n",
    "#concatenate arr1 & arr2 verticaly \n",
    "arr3=np.stack((arr1,arr2),axis=0)\n",
    "print(arr3)\n",
    "#the covariance matrix \n",
    "M=np.cov(arr3)\n",
    "print(M)"
   ]
  },
  {
   "cell_type": "code",
   "execution_count": 12,
   "id": "4ff68558",
   "metadata": {},
   "outputs": [
    {
     "name": "stdout",
     "output_type": "stream",
     "text": [
      "Enter D elements separated by comma: 100,150,180\n",
      "18\n",
      "22\n",
      "24\n"
     ]
    }
   ],
   "source": [
    "#exercice7:\n",
    "#Question: Write a program that calculates and prints the value according to the given formula: Q = Square root of [(2 * C * D)/H] \n",
    "#The following are the fixed values of C and H: C is 50. H is 30. \n",
    "#D is the variable whose values should be input into your program in a comma-separated sequence. (that means D contains more than value)\n",
    "#Example Let's assume the following comma-separated input sequence is given to the program: 100,150,180 The output of the program should be: 18,22,24 \n",
    "#To further explain this, we will obtain a result for each value of D:  Q1= Square root of [(2 * C * 100)/H] =18, Q2= Square root of [(2 * C * 150)/H] = 22 and Q3 = Square root of [(2 * C * 180)/H]  = 24\n",
    "#Hints: If the output received is in decimal form, it should be rounded off to its nearest value (for example, if the output received is 26.0, it should be printed as 26) In case of input data being supplied to the question, it should be assumed to be a console input. \n",
    "\n",
    "\n",
    "\n",
    "# we must import maths labrary to use square root operation \n",
    "import math\n",
    "# we create our function using def\n",
    "def square_root (C=50,H=30):\n",
    "# Input D elements\n",
    "    Nums = input('Enter D elements separated by comma: ')\n",
    "    Nums = Nums.split(',')\n",
    "# empty list for storage our result\n",
    "    Q = []\n",
    "    for D in Nums:\n",
    "            Q.append(round(math.sqrt(2 * C * int(D) / H)))   \n",
    "    for i in Q:\n",
    "        result = print(i)\n",
    "            \n",
    "    \n",
    "    return result\n",
    "\n",
    "    \n",
    "square_root()\n",
    "  \n"
   ]
  },
  {
   "cell_type": "code",
   "execution_count": null,
   "id": "26fbf056",
   "metadata": {},
   "outputs": [],
   "source": []
  }
 ],
 "metadata": {
  "kernelspec": {
   "display_name": "Python 3",
   "language": "python",
   "name": "python3"
  },
  "language_info": {
   "codemirror_mode": {
    "name": "ipython",
    "version": 3
   },
   "file_extension": ".py",
   "mimetype": "text/x-python",
   "name": "python",
   "nbconvert_exporter": "python",
   "pygments_lexer": "ipython3",
   "version": "3.8.8"
  }
 },
 "nbformat": 4,
 "nbformat_minor": 5
}
